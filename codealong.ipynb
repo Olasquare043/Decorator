{
 "cells": [
  {
   "cell_type": "code",
   "execution_count": 15,
   "id": "640d809f",
   "metadata": {},
   "outputs": [
    {
     "name": "stdout",
     "output_type": "stream",
     "text": [
      "Welcome to our shop\n",
      "shopkeeper say: Welcome to our shop\n"
     ]
    }
   ],
   "source": [
    "# fucntion greet\n",
    "def greet_customer():\n",
    "    return \"Welcome to our shop\"\n",
    "# assign functions to variables\n",
    "my_greeting= greet_customer\n",
    "print(my_greeting())\n",
    "\n",
    "# pass functions as arguments\n",
    "def use_greeting(greet_func):\n",
    "    return f\"shopkeeper say: {greet_func()}\"\n",
    "\n",
    "#  calling the function\n",
    "print(use_greeting(greet_customer))"
   ]
  },
  {
   "cell_type": "markdown",
   "id": "748b874e",
   "metadata": {},
   "source": [
    "### The decorators"
   ]
  },
  {
   "cell_type": "code",
   "execution_count": 25,
   "id": "a9972d2e",
   "metadata": {},
   "outputs": [],
   "source": [
    "def polite_greeting(original_func):\n",
    "    def wrapper():\n",
    "        result = original_func()\n",
    "        return f\"Good day ooo!, {result} How is family?\"\n",
    "    return wrapper\n",
    "\n",
    "# the basic greeting\n",
    "def greeting():\n",
    "    return \"Hello\""
   ]
  },
  {
   "cell_type": "code",
   "execution_count": 27,
   "id": "07320446",
   "metadata": {},
   "outputs": [
    {
     "name": "stdout",
     "output_type": "stream",
     "text": [
      "Good day ooo!, Hello How is family?\n"
     ]
    }
   ],
   "source": [
    "print(polite_greeting(greeting)())"
   ]
  },
  {
   "cell_type": "code",
   "execution_count": 30,
   "id": "da191c31",
   "metadata": {},
   "outputs": [
    {
     "name": "stdout",
     "output_type": "stream",
     "text": [
      "Good day ooo!, Welcome to Olasquare application How is family?\n"
     ]
    }
   ],
   "source": [
    "# using @ symbol\n",
    "@polite_greeting\n",
    "def app_greeting():\n",
    "    return \"Welcome to Olasquare application\"\n",
    "\n",
    "print(app_greeting())"
   ]
  },
  {
   "cell_type": "code",
   "execution_count": null,
   "id": "86210ff7",
   "metadata": {},
   "outputs": [],
   "source": [
    "def time_greeting(day_time):\n",
    "    def wrapper(orig_function):\n",
    "       if day_time == \"morning\":\n",
    "        greeting = \"Good morning ooo!\"\n",
    "       "
   ]
  }
 ],
 "metadata": {
  "kernelspec": {
   "display_name": "Python 3",
   "language": "python",
   "name": "python3"
  },
  "language_info": {
   "codemirror_mode": {
    "name": "ipython",
    "version": 3
   },
   "file_extension": ".py",
   "mimetype": "text/x-python",
   "name": "python",
   "nbconvert_exporter": "python",
   "pygments_lexer": "ipython3",
   "version": "3.13.7"
  }
 },
 "nbformat": 4,
 "nbformat_minor": 5
}
