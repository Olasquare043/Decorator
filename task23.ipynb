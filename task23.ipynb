{
 "cells": [
  {
   "cell_type": "markdown",
   "id": "afdca05f",
   "metadata": {
    "notebookRunGroups": {
     "groupValue": "1"
    }
   },
   "source": [
    "## Validation for X (formerly Twitter) username and tweet(post)"
   ]
  },
  {
   "cell_type": "code",
   "execution_count": null,
   "id": "1e6a9bbc",
   "metadata": {},
   "outputs": [],
   "source": [
    "# importing libraries\n",
    "from pydantic import BaseModel, Field, field_validator, ValidationError"
   ]
  },
  {
   "cell_type": "code",
   "execution_count": null,
   "id": "1d74c3dd",
   "metadata": {},
   "outputs": [],
   "source": []
  }
 ],
 "metadata": {
  "language_info": {
   "name": "python"
  }
 },
 "nbformat": 4,
 "nbformat_minor": 5
}
