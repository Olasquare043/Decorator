{
 "cells": [
  {
   "cell_type": "markdown",
   "id": "afdca05f",
   "metadata": {
    "notebookRunGroups": {
     "groupValue": "1"
    }
   },
   "source": [
    "## Validation for X (formerly Twitter) username and tweet(post)"
   ]
  },
  {
   "cell_type": "markdown",
   "id": "26b6e1c7",
   "metadata": {},
   "source": [
    "**Usernames (also called handles) on X must follow these rules:**\n",
    "- Length: Between 4 and 15 characters.\n",
    "- Characters allowed: Only letters (A–Z), numbers (0–9), and underscores (_).\n",
    "- No spaces or symbols: Special characters like !, @, #, etc. are not allowed.\n",
    "- Restricted words: You cannot use “Twitter” or “Admin” unless it’s an official account.\n",
    "- Uniqueness: Each username must be unique. If your desired name is taken, try adding underscores or numbers.\n",
    "\n",
    "\n",
    "--\n",
    "**Rules for Tweet**\n",
    "Character Limit: The standard character limit for a post is 280 characters. Subscribers to X Premium can post up to 25,000 characters.\n",
    "URL Shortening: Any link shared in a post, regardless of its original length, is automatically shortened using X's t.co link shortener. The shortened link will always count as 23 characters towards the character limit.\n",
    "Media Attachments: You can attach up to 4 photos, a GIF, or a video to a single post. Media does not count against the character limit.\n",
    "Mentions and Hashtags: User mentions (e.g., @username) and hashtags (e.g., #topic) are counted as part of the total character count.\n",
    "\n",
    "\n",
    "\n",
    "\n",
    "\n",
    "\n"
   ]
  },
  {
   "cell_type": "code",
   "execution_count": null,
   "id": "1e6a9bbc",
   "metadata": {},
   "outputs": [],
   "source": [
    "# importing libraries\n",
    "from pydantic import BaseModel, Field, field_validator, ValidationError"
   ]
  },
  {
   "cell_type": "code",
   "execution_count": null,
   "id": "1d74c3dd",
   "metadata": {},
   "outputs": [],
   "source": [
    "# The validation model\n",
    "\n",
    "class Validation (BaseModel):\n",
    "    username= str \n",
    "\n",
    "    @field_validator(\"usename\")\n"
   ]
  }
 ],
 "metadata": {
  "language_info": {
   "name": "python"
  }
 },
 "nbformat": 4,
 "nbformat_minor": 5
}
