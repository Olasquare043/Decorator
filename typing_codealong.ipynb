{
 "cells": [
  {
   "cell_type": "code",
   "execution_count": 73,
   "id": "dfa760a8",
   "metadata": {},
   "outputs": [],
   "source": [
    "def get_average(name:str, scores: list[float])-> float:\n",
    "    average_score = sum(scores)/len(scores)\n",
    "    print(f\"{name}'s average score is {average_score}\")\n",
    "    return average_score    "
   ]
  },
  {
   "cell_type": "code",
   "execution_count": 74,
   "id": "b8020ebb",
   "metadata": {},
   "outputs": [],
   "source": [
    "from typing import List,Dict,Union,Optional, Tuple \n",
    "\n",
    "def process_scores(scores: List[int],info: Dict[str,Union[int,float]], comment: Optional[str]=None)-> None:\n",
    "    print(\"Scores:\", scores)\n",
    "    print(\"Info:\", info)\n",
    "    if comment:\n",
    "        print(\"Comment:\", comment)"
   ]
  },
  {
   "cell_type": "code",
   "execution_count": 75,
   "id": "52832819",
   "metadata": {},
   "outputs": [],
   "source": [
    "def get_fellow_id(id:int|str)->str:\n",
    "    return f'Fellow ID: {id}'"
   ]
  },
  {
   "cell_type": "code",
   "execution_count": 76,
   "id": "756b7c0c",
   "metadata": {},
   "outputs": [],
   "source": [
    "def get_fellow_id(id: Union[str,int])->str:\n",
    "    return f'The fellow ID: {id}'"
   ]
  },
  {
   "cell_type": "code",
   "execution_count": 77,
   "id": "2491ead3",
   "metadata": {},
   "outputs": [
    {
     "name": "stdout",
     "output_type": "stream",
     "text": [
      "38 Idi araba, ode ogbe\n"
     ]
    }
   ],
   "source": [
    "def format_address(houseNum: Union[str,int], street: str)-> str:\n",
    "    return f'{houseNum} {street}'\n",
    "\n",
    "house_num= 38\n",
    "street=\"Idi araba, ode ogbe\"\n",
    "# call the function\n",
    "print(format_address(house_num,street))"
   ]
  },
  {
   "cell_type": "code",
   "execution_count": 78,
   "id": "3a559681",
   "metadata": {},
   "outputs": [
    {
     "name": "stdout",
     "output_type": "stream",
     "text": [
      "Hello Saheed\n",
      "Hello Saheed Olayemi\n"
     ]
    }
   ],
   "source": [
    "def greet(firstname:str, lastname:Optional[str]=None)->None:\n",
    "    if lastname:\n",
    "        print(f'Hello {firstname} {lastname}')\n",
    "    else:\n",
    "        print(f'Hello {firstname}')\n",
    "\n",
    "greet(\"Saheed\")\n",
    "greet(\"Saheed\", \"Olayemi\")"
   ]
  },
  {
   "cell_type": "code",
   "execution_count": 79,
   "id": "fc1dfbe3",
   "metadata": {},
   "outputs": [
    {
     "data": {
      "text/plain": [
       "{'username': 'admin', 'role': 'superuser'}"
      ]
     },
     "execution_count": 79,
     "metadata": {},
     "output_type": "execute_result"
    }
   ],
   "source": [
    "def find_user(username:str)-> Optional[dict]:\n",
    "    if username==\"admin\":\n",
    "        return{\"username\": \"admin\", \"role\": \"superuser\"}\n",
    "    return None\n",
    "\n",
    "find_user(\"Member\")\n",
    "find_user(\"admin\")"
   ]
  },
  {
   "cell_type": "code",
   "execution_count": 80,
   "id": "fa496948",
   "metadata": {},
   "outputs": [
    {
     "name": "stdout",
     "output_type": "stream",
     "text": [
      "1. name: David - Score: 89\n",
      "2. name: Micheal - Score: 98\n"
     ]
    }
   ],
   "source": [
    "fellow_score: Dict[str,int]={\n",
    "    \"David\": 89,\n",
    "    \"Micheal\": 98\n",
    "}\n",
    "i=0\n",
    "for name, score in fellow_score.items():\n",
    "    i=i+1\n",
    "    print(f'{i}. name: {name} - Score: {score}')"
   ]
  },
  {
   "cell_type": "code",
   "execution_count": 81,
   "id": "2a028ca2",
   "metadata": {},
   "outputs": [
    {
     "name": "stdout",
     "output_type": "stream",
     "text": [
      "('Perpetual', 88, 'AI Engineering')\n",
      "0. Perpetual\n",
      "1. 88\n",
      "2. AI Engineering\n"
     ]
    }
   ],
   "source": [
    "fellow: Tuple[str, int, str] = (\"Perpetual\",88,\"AI Engineering\")\n",
    "print(fellow)\n",
    "for i,item in enumerate(fellow):\n",
    "    print(f'{i}. {item}')"
   ]
  },
  {
   "cell_type": "code",
   "execution_count": 82,
   "id": "834ca898",
   "metadata": {},
   "outputs": [],
   "source": [
    "from pydantic import BaseModel\n"
   ]
  },
  {
   "cell_type": "code",
   "execution_count": 83,
   "id": "9e6e4e3e",
   "metadata": {},
   "outputs": [
    {
     "name": "stdout",
     "output_type": "stream",
     "text": [
      "name='Olayiwola' score=83 track='AI Engineering'\n"
     ]
    }
   ],
   "source": [
    "# creating pydantic data model\n",
    "class Fellow(BaseModel):\n",
    "    name:str\n",
    "    score:int\n",
    "    track: str\n",
    "\n",
    "#  using with correct data type\n",
    "p=Fellow(name=\"Olayiwola\", score=83, track=\"AI Engineering\")\n",
    "print(p)"
   ]
  },
  {
   "cell_type": "code",
   "execution_count": 84,
   "id": "22307ed0",
   "metadata": {},
   "outputs": [
    {
     "name": "stdout",
     "output_type": "stream",
     "text": [
      "name='Perpetual' score=88 track='AI Engineering' address=Address(street='Ajelogo Street', city='Ketu', state='Lagos', country='Nigeria')\n"
     ]
    }
   ],
   "source": [
    "class Address(BaseModel):\n",
    "    street:str\n",
    "    city:str\n",
    "    state:str\n",
    "    country:str\n",
    "\n",
    "class Fellow (BaseModel):\n",
    "    name: str\n",
    "    score: int\n",
    "    track:str\n",
    "    address: Address\n",
    "\n",
    "\n",
    "# lets pass this data\n",
    "data = {\n",
    "    \"name\": \"Perpetual\",\n",
    "    \"score\": 88,\n",
    "    \"track\": \"AI Engineering\",\n",
    "    \n",
    "    \"address\": {\n",
    "        \"street\": \"Ajelogo Street\",\n",
    "        \"city\": \"Ketu\",\n",
    "        \"state\": \"Lagos\",\n",
    "        \"country\": \"Nigeria\"\n",
    "    }\n",
    "}\n",
    "\n",
    "\n",
    "fellow = Fellow(**data)\n",
    "print(fellow)"
   ]
  },
  {
   "cell_type": "code",
   "execution_count": 85,
   "id": "9a03f800",
   "metadata": {},
   "outputs": [
    {
     "ename": "ValidationError",
     "evalue": "2 validation errors for Fellow\ntrack\n  Field required [type=missing, input_value={'name': 'Hassan', 'score': 80, 'addresses': []}, input_type=dict]\n    For further information visit https://errors.pydantic.dev/2.12/v/missing\naddress\n  Field required [type=missing, input_value={'name': 'Hassan', 'score': 80, 'addresses': []}, input_type=dict]\n    For further information visit https://errors.pydantic.dev/2.12/v/missing",
     "output_type": "error",
     "traceback": [
      "\u001b[31m---------------------------------------------------------------------------\u001b[39m",
      "\u001b[31mValidationError\u001b[39m                           Traceback (most recent call last)",
      "\u001b[36mCell\u001b[39m\u001b[36m \u001b[39m\u001b[32mIn[85]\u001b[39m\u001b[32m, line 13\u001b[39m\n\u001b[32m      9\u001b[39m     addresses: List[Address]\n\u001b[32m     10\u001b[39m \u001b[38;5;66;03m# This will throw error bcus score is less dan 0\u001b[39;00m\n\u001b[32m     11\u001b[39m \u001b[38;5;66;03m# Fellow(name=\"Hassan\", score= -40, addresses=[]) \u001b[39;00m\n\u001b[32m---> \u001b[39m\u001b[32m13\u001b[39m \u001b[43mFellow\u001b[49m\u001b[43m(\u001b[49m\u001b[43mname\u001b[49m\u001b[43m=\u001b[49m\u001b[33;43m\"\u001b[39;49m\u001b[33;43mHassan\u001b[39;49m\u001b[33;43m\"\u001b[39;49m\u001b[43m,\u001b[49m\u001b[43m \u001b[49m\u001b[43mscore\u001b[49m\u001b[43m=\u001b[49m\u001b[43m \u001b[49m\u001b[32;43m80\u001b[39;49m\u001b[43m,\u001b[49m\u001b[43m \u001b[49m\u001b[43maddresses\u001b[49m\u001b[43m=\u001b[49m\u001b[43m[\u001b[49m\u001b[43m]\u001b[49m\u001b[43m)\u001b[49m\n",
      "\u001b[36mFile \u001b[39m\u001b[32m~\\AppData\\Roaming\\Python\\Python313\\site-packages\\pydantic\\main.py:250\u001b[39m, in \u001b[36mBaseModel.__init__\u001b[39m\u001b[34m(self, **data)\u001b[39m\n\u001b[32m    248\u001b[39m \u001b[38;5;66;03m# `__tracebackhide__` tells pytest and some other tools to omit this function from tracebacks\u001b[39;00m\n\u001b[32m    249\u001b[39m __tracebackhide__ = \u001b[38;5;28;01mTrue\u001b[39;00m\n\u001b[32m--> \u001b[39m\u001b[32m250\u001b[39m validated_self = \u001b[38;5;28;43mself\u001b[39;49m\u001b[43m.\u001b[49m\u001b[43m__pydantic_validator__\u001b[49m\u001b[43m.\u001b[49m\u001b[43mvalidate_python\u001b[49m\u001b[43m(\u001b[49m\u001b[43mdata\u001b[49m\u001b[43m,\u001b[49m\u001b[43m \u001b[49m\u001b[43mself_instance\u001b[49m\u001b[43m=\u001b[49m\u001b[38;5;28;43mself\u001b[39;49m\u001b[43m)\u001b[49m\n\u001b[32m    251\u001b[39m \u001b[38;5;28;01mif\u001b[39;00m \u001b[38;5;28mself\u001b[39m \u001b[38;5;129;01mis\u001b[39;00m \u001b[38;5;129;01mnot\u001b[39;00m validated_self:\n\u001b[32m    252\u001b[39m     warnings.warn(\n\u001b[32m    253\u001b[39m         \u001b[33m'\u001b[39m\u001b[33mA custom validator is returning a value other than `self`.\u001b[39m\u001b[38;5;130;01m\\n\u001b[39;00m\u001b[33m'\u001b[39m\n\u001b[32m    254\u001b[39m         \u001b[33m\"\u001b[39m\u001b[33mReturning anything other than `self` from a top level model validator isn\u001b[39m\u001b[33m'\u001b[39m\u001b[33mt supported when validating via `__init__`.\u001b[39m\u001b[38;5;130;01m\\n\u001b[39;00m\u001b[33m\"\u001b[39m\n\u001b[32m    255\u001b[39m         \u001b[33m'\u001b[39m\u001b[33mSee the `model_validator` docs (https://docs.pydantic.dev/latest/concepts/validators/#model-validators) for more details.\u001b[39m\u001b[33m'\u001b[39m,\n\u001b[32m    256\u001b[39m         stacklevel=\u001b[32m2\u001b[39m,\n\u001b[32m    257\u001b[39m     )\n",
      "\u001b[31mValidationError\u001b[39m: 2 validation errors for Fellow\ntrack\n  Field required [type=missing, input_value={'name': 'Hassan', 'score': 80, 'addresses': []}, input_type=dict]\n    For further information visit https://errors.pydantic.dev/2.12/v/missing\naddress\n  Field required [type=missing, input_value={'name': 'Hassan', 'score': 80, 'addresses': []}, input_type=dict]\n    For further information visit https://errors.pydantic.dev/2.12/v/missing"
     ]
    }
   ],
   "source": [
    "\n",
    "from pydantic import Field\n",
    "class Address(BaseModel):\n",
    "    street:str\n",
    "    city: str\n",
    "\n",
    "class Felllow(BaseModel):\n",
    "    name: str\n",
    "    score: int =Field(...,ge=0, le=100) #Field level validate\n",
    "    addresses: List[Address]\n",
    "# This will throw error bcus score is less dan 0\n",
    "# Fellow(name=\"Hassan\", score= -40, addresses=[]) \n",
    "\n",
    "Fellow(name=\"Hassan\", score= 80, addresses=[])\n",
    " "
   ]
  },
  {
   "cell_type": "markdown",
   "id": "66b830bc",
   "metadata": {},
   "source": [
    "### Custom validation"
   ]
  },
  {
   "cell_type": "code",
   "execution_count": 86,
   "id": "0d1e48c9",
   "metadata": {},
   "outputs": [
    {
     "data": {
      "text/plain": [
       "Person(name='Solomon', age=20)"
      ]
     },
     "execution_count": 86,
     "metadata": {},
     "output_type": "execute_result"
    }
   ],
   "source": [
    "from pydantic import field_validator\n",
    "\n",
    "class Person(BaseModel):\n",
    "    name: str\n",
    "    age:int = Field(...,ge=0)\n",
    "\n",
    "    @field_validator(\"name\")\n",
    "    def name_must_start_with_capital(cls,v):\n",
    "        if not v[0].isupper():\n",
    "            raise ValueError(\"Name must start with a capital letter\")\n",
    "        return v\n",
    "#  this will throw error\n",
    "# Person(name=\"solomon\", age=20)\n",
    "\n",
    "Person(name=\"Solomon\", age=20)"
   ]
  },
  {
   "cell_type": "code",
   "execution_count": 94,
   "id": "b0a40ab5",
   "metadata": {},
   "outputs": [],
   "source": [
    "from datetime import datetime\n",
    "from pydantic import BaseModel, Field,ValidationError\n",
    "from decimal import Decimal\n",
    "from typing import List\n",
    "\n",
    "# creating the model here\n",
    "\n",
    "class ProductReview(BaseModel):\n",
    "    review_id: int = Field(..., gt=0, lt=10000)\n",
    "    username: str = Field(..., min_length=3, max_length=12, pattern=r\"^[A-Za-z0-9_]+$\")\n",
    "    scores: List[int] = Field(..., min_length=3, max_length=5)\n",
    "    price: Decimal = Field(..., gt=0, max_digits=6, decimal_places=2)\n",
    "    rating: float = Field(..., ge=0, le=5, multiple_of=0.5)\n",
    "    is_active: bool=Field(default=False)\n",
    "    created_at: datetime = Field(default_factory=datetime.now)"
   ]
  },
  {
   "cell_type": "code",
   "execution_count": 88,
   "id": "520d565e",
   "metadata": {},
   "outputs": [
    {
     "name": "stdout",
     "output_type": "stream",
     "text": [
      "Integer Field Validation\n"
     ]
    }
   ],
   "source": [
    "# let our model\n",
    "def demo_int_field():\n",
    "    print(\"Integer Field Validation\")\n",
    "    try:\n",
    "        ProductReview(review_id= 2, username=\"shabi\", scores=[4, 5, 4], price=Decimal(\"5.00\"), rating=4.5)\n",
    "    except ValidationError as e:\n",
    "        print(e)\n",
    "demo_int_field()\n"
   ]
  },
  {
   "cell_type": "code",
   "execution_count": 89,
   "id": "3e4f2cd5",
   "metadata": {},
   "outputs": [
    {
     "name": "stdout",
     "output_type": "stream",
     "text": [
      "String Field Validation\n"
     ]
    }
   ],
   "source": [
    "def demo_str_field():\n",
    "    print(\"String Field Validation\")\n",
    "    try:\n",
    "        ProductReview(review_id=1, username=\"Ajhhg\", scores=[4, 5, 5], price=Decimal(\"4.00\"), rating=4.0)\n",
    "    except ValidationError as e:\n",
    "        print(e)\n",
    "\n",
    "demo_str_field()"
   ]
  },
  {
   "cell_type": "code",
   "execution_count": 90,
   "id": "07d4a46b",
   "metadata": {},
   "outputs": [
    {
     "name": "stdout",
     "output_type": "stream",
     "text": [
      "\n",
      " List Field Validation\n"
     ]
    }
   ],
   "source": [
    "def demo_list_field():\n",
    "    print(\"\\n List Field Validation\")\n",
    "    try:\n",
    "        ProductReview(review_id=2, username=\"ChrisDev\", scores=[5,8,9], price=Decimal(\"3.00\"), rating=3.5)\n",
    "    except ValidationError as e:\n",
    "        print(e)\n",
    "\n",
    "demo_list_field()"
   ]
  },
  {
   "cell_type": "code",
   "execution_count": 91,
   "id": "bb7e2234",
   "metadata": {},
   "outputs": [
    {
     "name": "stdout",
     "output_type": "stream",
     "text": [
      "\n",
      " Decimal Field Validation\n"
     ]
    }
   ],
   "source": [
    "def demo_decimal_field():\n",
    "    print(\"\\n Decimal Field Validation\")\n",
    "    try:\n",
    "        ProductReview(review_id=3, username=\"Tester\", scores=[4, 4, 5], price=Decimal(\"1.00\"), rating=4.5)\n",
    "    except ValidationError as e:\n",
    "        print(e)\n",
    "\n",
    "demo_decimal_field()"
   ]
  },
  {
   "cell_type": "code",
   "execution_count": 92,
   "id": "0f2c2a66",
   "metadata": {},
   "outputs": [
    {
     "name": "stdout",
     "output_type": "stream",
     "text": [
      "\n",
      " Float Field Validation\n",
      "1 validation error for ProductReview\n",
      "rating\n",
      "  Input should be a multiple of 0.5 [type=multiple_of, input_value=4.3, input_type=float]\n",
      "    For further information visit https://errors.pydantic.dev/2.12/v/multiple_of\n"
     ]
    }
   ],
   "source": [
    "def demo_float_field():\n",
    "    print(\"\\n Float Field Validation\")\n",
    "    try:\n",
    "        ProductReview(review_id=4, username=\"SmartDev\", scores=[5, 4, 4], price=Decimal(\"1.0\"), rating=4.3)\n",
    "    except ValidationError as e:\n",
    "        print(e)\n",
    "\n",
    "demo_float_field()"
   ]
  },
  {
   "cell_type": "code",
   "execution_count": 95,
   "id": "c6fb29b5",
   "metadata": {},
   "outputs": [
    {
     "name": "stdout",
     "output_type": "stream",
     "text": [
      "\n",
      " Boolean Field Default\n",
      "is_active = False\n"
     ]
    }
   ],
   "source": [
    "def demo_bool_field():\n",
    "    print(\"\\n Boolean Field Default\")\n",
    "    product = ProductReview(\n",
    "        review_id=5,\n",
    "        username=\"JaneDoe\",\n",
    "        scores=[5, 4, 5],\n",
    "        price=Decimal(\"59.99\"),\n",
    "        rating=5.0\n",
    "    )\n",
    "    print(\"is_active =\", product.is_active)\n",
    "\n",
    "demo_bool_field()"
   ]
  },
  {
   "cell_type": "code",
   "execution_count": 97,
   "id": "3f0731b5",
   "metadata": {},
   "outputs": [
    {
     "name": "stdout",
     "output_type": "stream",
     "text": [
      "\n",
      " Datetime Default Factory\n",
      "created_at = 2025-10-15 15:29:14.213122\n"
     ]
    }
   ],
   "source": [
    "def demo_datetime_field():\n",
    "    print(\"\\n Datetime Default Factory\")\n",
    "    product = ProductReview(\n",
    "        review_id=6,\n",
    "        username=\"TimeUser\",\n",
    "        scores=[3, 4, 5],\n",
    "        price=Decimal(\"25.00\"),\n",
    "        rating=4.5\n",
    "    )\n",
    "    print(\"created_at =\", product.created_at)\n",
    "\n",
    "demo_datetime_field()"
   ]
  }
 ],
 "metadata": {
  "kernelspec": {
   "display_name": "Python 3",
   "language": "python",
   "name": "python3"
  },
  "language_info": {
   "codemirror_mode": {
    "name": "ipython",
    "version": 3
   },
   "file_extension": ".py",
   "mimetype": "text/x-python",
   "name": "python",
   "nbconvert_exporter": "python",
   "pygments_lexer": "ipython3",
   "version": "3.13.7"
  }
 },
 "nbformat": 4,
 "nbformat_minor": 5
}
